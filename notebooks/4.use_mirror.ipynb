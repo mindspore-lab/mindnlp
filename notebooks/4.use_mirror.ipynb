{
 "cells": [
  {
   "cell_type": "markdown",
   "metadata": {},
   "source": [
    "# Use mirror to download models and datasets\n",
    "\n",
    "While the official Hugging Face repository offers numerous high-quality models and datasets, they may not be always accessible due to network issues. To make the access easier, MindNLP enables you to download models and datasets from a variety of huggingface mirrors or other model repositories.\n",
    "\n",
    "Here we show you how to set your desired mirror.\n",
    "\n",
    "You can either set the Hugging Face mirror through the environment variable, or more locally, specify the mirror in the `from_pretrained` method when downloading models."
   ]
  },
  {
   "cell_type": "markdown",
   "metadata": {},
   "source": [
    "## Set Hugging Face mirror through the environment variable\n",
    "\n",
    "The Huggingface mirror used in MindNLP is controlled throught the `HF_ENDPOINT` environment variable.\n",
    "\n",
    "You can either set this variable in the terminal before excuting your python script:\n",
    "```bash\n",
    "export HF_ENDPOINT=\"https://hf-mirror.com\"\n",
    "```\n",
    "or set it within the python script using the `os` package:"
   ]
  },
  {
   "cell_type": "code",
   "execution_count": 1,
   "metadata": {},
   "outputs": [],
   "source": [
    "import os\n",
    "os.environ['HF_ENDPOINT'] = 'https://hf-mirror.com'"
   ]
  },
  {
   "cell_type": "markdown",
   "metadata": {},
   "source": [
    "If the `HF_ENDPOINT` variable is not set explicitly by the user, MindNLP will use 'https://hf-mirror.com' by default. You can change this to the official Huggingface repository, 'https://huggingface.co'.\n",
    "\n",
    "**Important:**\n",
    "\n",
    "The URL should not include the last '/'. Setting the varialble to 'https://hf-mirror.com' will work, while setting it to 'https://hf-mirror.com/' will result in an error.\n",
    "\n",
    "**Important:**\n",
    "\n",
    "As the `HF_ENDPOINT` variable is read during the initial import of MindNLP, it is important to set the `HF_ENDPOINT` before importing MindNLP. If you are in a Jupyter Notebook, and MindNLP package is already imported, you may need to restart the notebook for the change to take effect."
   ]
  },
  {
   "cell_type": "markdown",
   "metadata": {},
   "source": [
    "Now you can download the model you want, for example:"
   ]
  },
  {
   "cell_type": "code",
   "execution_count": 2,
   "metadata": {},
   "outputs": [
    {
     "name": "stderr",
     "output_type": "stream",
     "text": [
      "[WARNING] ME(54773:130029102232640,MainProcess):2024-07-17-21:23:42.507.077 [mindspore/run_check/_check_version.py:102] MindSpore version 2.2.14 and cuda version 11.4.148 does not match, CUDA version [['10.1', '11.1', '11.6']] are supported by MindSpore officially. Please refer to the installation guide for version matching information: https://www.mindspore.cn/install.\n",
      "/home/hubo/Software/miniconda3/envs/mindspore/lib/python3.9/site-packages/tqdm/auto.py:21: TqdmWarning: IProgress not found. Please update jupyter and ipywidgets. See https://ipywidgets.readthedocs.io/en/stable/user_install.html\n",
      "  from .autonotebook import tqdm as notebook_tqdm\n",
      "Building prefix dict from the default dictionary ...\n",
      "Dumping model to file cache /tmp/jieba.cache\n",
      "Loading model cost 0.762 seconds.\n",
      "Prefix dict has been built successfully.\n",
      "The following parameters in checkpoint files are not loaded:\n",
      "['cls.predictions.bias', 'cls.predictions.transform.dense.bias', 'cls.predictions.transform.dense.weight', 'cls.seq_relationship.bias', 'cls.seq_relationship.weight', 'cls.predictions.transform.LayerNorm.bias', 'cls.predictions.transform.LayerNorm.weight']\n",
      "The following parameters in models are missing parameter:\n",
      "['classifier.weight', 'classifier.bias']\n"
     ]
    }
   ],
   "source": [
    "from mindnlp.transformers import AutoModelForSequenceClassification\n",
    "model = AutoModelForSequenceClassification.from_pretrained('bert-base-uncased')"
   ]
  },
  {
   "cell_type": "markdown",
   "metadata": {},
   "source": [
    "## Specify Hugging Face mirror in the `from_pretrained` method\n",
    "\n",
    "Instead of setting the Hugging Face mirror globally through the environment variable, you can also specify the mirror for a single download operation in the `from_pretrained` method.\n",
    "\n",
    "For example:"
   ]
  },
  {
   "cell_type": "code",
   "execution_count": 4,
   "metadata": {},
   "outputs": [
    {
     "name": "stderr",
     "output_type": "stream",
     "text": [
      "The following parameters in checkpoint files are not loaded:\n",
      "['cls.predictions.bias', 'cls.predictions.transform.dense.bias', 'cls.predictions.transform.dense.weight', 'cls.seq_relationship.bias', 'cls.seq_relationship.weight', 'cls.predictions.transform.LayerNorm.bias', 'cls.predictions.transform.LayerNorm.weight']\n",
      "The following parameters in models are missing parameter:\n",
      "['classifier.weight', 'classifier.bias']\n"
     ]
    }
   ],
   "source": [
    "from mindnlp.transformers import AutoModelForSequenceClassification\n",
    "model = AutoModelForSequenceClassification.from_pretrained('bert-base-uncased', mirror='modelscope', revision='master')"
   ]
  },
  {
   "cell_type": "markdown",
   "metadata": {},
   "source": [
    "MindNLP accepts the following options for the `mirror` argument:\n",
    "\n",
    "* 'huggingface'\n",
    "\n",
    "    Download from the Hugging Face mirror specified through the `HF_ENDPOINT` environment variable. By default, it points to [HF-Mirror](https://hf-mirror.com).\n",
    "\n",
    "* 'modelscope'\n",
    "\n",
    "    Download from  [ModelScope](https://www.modelscope.cn).\n",
    "\n",
    "* 'wisemodel'\n",
    "\n",
    "    Download from [始智AI](https://www.wisemodel.cn).\n",
    "\n",
    "* 'gitee'\n",
    "\n",
    "    Dowload from the [Gitee AI Hugging Face repository](https://ai.gitee.com/huggingface).\n",
    "\n",
    "* 'aifast'\n",
    "\n",
    "    Download from [AI快站](https://aifasthub.com).\n",
    "\n",
    "Note that not all models can be found from a single mirror, you may need to check whether the model you want to download is actually provided by the mirror you choose.\n",
    "\n",
    "In addition to specifying the mirror, you also need to specify the `revision` argument. The `revision` argument can either be 'master' or 'main' depending on the mirror you choose. By default, `revision='main'`.\n",
    "\n",
    "* If the `mirror` is 'huggingface', 'wisemodel' or 'gitee', set `revision='main'`.\n",
    "\n",
    "* If the `mirror` is 'modelscope', set `revision='master'`.\n",
    "\n",
    "* If the `mirror` is 'aifast', `revision` does not need to be specified.\n"
   ]
  }
 ],
 "metadata": {
  "kernelspec": {
   "display_name": "mindspore",
   "language": "python",
   "name": "python3"
  },
  "language_info": {
   "codemirror_mode": {
    "name": "ipython",
    "version": 3
   },
   "file_extension": ".py",
   "mimetype": "text/x-python",
   "name": "python",
   "nbconvert_exporter": "python",
   "pygments_lexer": "ipython3",
   "version": "3.9.18"
  }
 },
 "nbformat": 4,
 "nbformat_minor": 2
}
