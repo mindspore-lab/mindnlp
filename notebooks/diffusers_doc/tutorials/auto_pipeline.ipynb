{
 "cells": [
  {
   "cell_type": "markdown",
   "id": "b3ef3186-370b-437e-839a-d2ec14888fa5",
   "metadata": {},
   "source": [
    "<!--Copyright 2025 The HuggingFace Team. All rights reserved.\n",
    "\n",
    "Licensed under the Apache License, Version 2.0 (the \"License\"); you may not use this file except in compliance with\n",
    "the License. You may obtain a copy of the License at\n",
    "\n",
    "http://www.apache.org/licenses/LICENSE-2.0\n",
    "\n",
    "Unless required by applicable law or agreed to in writing, software distributed under the License is distributed on\n",
    "an \"AS IS\" BASIS, WITHOUT WARRANTIES OR CONDITIONS OF ANY KIND, either express or implied. See the License for the\n",
    "specific language governing permissions and limitations under the License.\n",
    "-->\n",
    "\n",
    "# AutoPipeline\n",
    "\n",
    "Diffusers provides many pipelines for basic tasks like generating images, videos, audio, and inpainting. On top of these, there are specialized pipelines for adapters and features like upscaling, super-resolution, and more. Different pipeline classes can even use the same checkpoint because they share the same pretrained model! With so many different pipelines, it can be overwhelming to know which pipeline class to use.\n",
    "\n",
    "The [AutoPipeline](../api/pipelines/auto_pipeline) class is designed to simplify the variety of pipelines in Diffusers. It is a generic *task-first* pipeline that lets you focus on a task ([`AutoPipelineForText2Image`], [`AutoPipelineForImage2Image`], and [`AutoPipelineForInpainting`]) without needing to know the specific pipeline class. The [AutoPipeline](../api/pipelines/auto_pipeline) automatically detects the correct pipeline class to use.\n",
    "\n",
    "For example, let's use the [dreamlike-art/dreamlike-photoreal-2.0](https://hf.co/dreamlike-art/dreamlike-photoreal-2.0) checkpoint.\n",
    "\n",
    "Under the hood, [AutoPipeline](../api/pipelines/auto_pipeline):\n",
    "\n",
    "1. Detects a `\"stable-diffusion\"` class from the [model_index.json](https://hf.co/dreamlike-art/dreamlike-photoreal-2.0/blob/main/model_index.json) file.\n",
    "2. Depending on the task you're interested in, it loads the [`StableDiffusionPipeline`], [`StableDiffusionImg2ImgPipeline`], or [`StableDiffusionInpaintPipeline`]. Any parameter (`strength`, `num_inference_steps`, etc.) you would pass to these specific pipelines can also be passed to the [AutoPipeline](../api/pipelines/auto_pipeline).\n",
    "\n",
    "<hfoptions id=\"autopipeline\">\n",
    "<hfoption id=\"text-to-image\">"
   ]
  },
  {
   "cell_type": "code",
   "execution_count": null,
   "id": "8876af26-846f-407f-b234-3d55d693f2c9",
   "metadata": {},
   "outputs": [],
   "source": [
    "import mindnlp"
   ]
  },
  {
   "cell_type": "code",
   "execution_count": null,
   "id": "aa5c5ad2-88e6-430e-ba69-f969074bfb95",
   "metadata": {},
   "outputs": [],
   "source": [
    "from diffusers import AutoPipelineForText2Image\n",
    "import torch\n",
    "\n",
    "pipe_txt2img = AutoPipelineForText2Image.from_pretrained(\n",
    "    \"dreamlike-art/dreamlike-photoreal-2.0\", torch_dtype=torch.float16, use_safetensors=True\n",
    ").to(\"cuda\")\n",
    "\n",
    "prompt = \"cinematic photo of Godzilla eating sushi with a cat in a izakaya, 35mm photograph, film, professional, 4k, highly detailed\"\n",
    "generator = torch.Generator(device=\"cpu\").manual_seed(37)\n",
    "image = pipe_txt2img(prompt, generator=generator).images[0]\n",
    "image"
   ]
  },
  {
   "cell_type": "markdown",
   "id": "47218f13-7017-4877-b3dd-5e3ed05c8522",
   "metadata": {},
   "source": [
    "<div class=\"flex justify-center\">\n",
    "    <img src=\"https://huggingface.co/datasets/huggingface/documentation-images/resolve/main/diffusers/autopipeline-text2img.png\"/>\n",
    "</div>\n",
    "\n",
    "</hfoption>\n",
    "<hfoption id=\"image-to-image\">"
   ]
  },
  {
   "cell_type": "code",
   "execution_count": null,
   "id": "e63669d9-3128-4a78-b775-91bec4bd78c5",
   "metadata": {},
   "outputs": [],
   "source": [
    "from diffusers import AutoPipelineForImage2Image\n",
    "from diffusers.utils import load_image\n",
    "import torch\n",
    "\n",
    "pipe_img2img = AutoPipelineForImage2Image.from_pretrained(\n",
    "    \"dreamlike-art/dreamlike-photoreal-2.0\", torch_dtype=torch.float16, use_safetensors=True\n",
    ").to(\"cuda\")\n",
    "\n",
    "init_image = load_image(\"https://hf-mirror.com/datasets/huggingface/documentation-images/resolve/main/diffusers/autopipeline-text2img.png\")\n",
    "\n",
    "prompt = \"cinematic photo of Godzilla eating burgers with a cat in a fast food restaurant, 35mm photograph, film, professional, 4k, highly detailed\"\n",
    "generator = torch.Generator(device=\"cpu\").manual_seed(53)\n",
    "image = pipe_img2img(prompt, image=init_image, generator=generator).images[0]\n",
    "image"
   ]
  },
  {
   "cell_type": "markdown",
   "id": "08c1c980-53b5-469f-abe3-085965af2325",
   "metadata": {},
   "source": [
    "Notice how the [dreamlike-art/dreamlike-photoreal-2.0](https://hf.co/dreamlike-art/dreamlike-photoreal-2.0) checkpoint is used for both text-to-image and image-to-image tasks? To save memory and avoid loading the checkpoint twice, use the [`~DiffusionPipeline.from_pipe`] method."
   ]
  },
  {
   "cell_type": "code",
   "execution_count": null,
   "id": "cd972fdf-ec20-4225-bb5a-b853817ac3e2",
   "metadata": {},
   "outputs": [],
   "source": [
    "pipe_img2img = AutoPipelineForImage2Image.from_pipe(pipe_txt2img).to(\"cuda\")\n",
    "image = pipe_img2img(prompt, image=init_image, generator=generator).images[0]\n",
    "image"
   ]
  },
  {
   "cell_type": "markdown",
   "id": "eeb46b01-b169-4ff8-ac35-cbb22b80cecc",
   "metadata": {},
   "source": [
    "You can learn more about the [`~DiffusionPipeline.from_pipe`] method in the [Reuse a pipeline](../using-diffusers/loading#reuse-a-pipeline) guide.\n",
    "\n",
    "<div class=\"flex justify-center\">\n",
    "    <img src=\"https://huggingface.co/datasets/huggingface/documentation-images/resolve/main/diffusers/autopipeline-img2img.png\"/>\n",
    "</div>\n",
    "\n",
    "</hfoption>\n",
    "<hfoption id=\"inpainting\">"
   ]
  },
  {
   "cell_type": "code",
   "execution_count": null,
   "id": "1ca8e2df-988b-442d-8963-3b69fa2d6367",
   "metadata": {},
   "outputs": [],
   "source": [
    "from diffusers import AutoPipelineForInpainting\n",
    "from diffusers.utils import load_image\n",
    "import torch\n",
    "\n",
    "pipeline = AutoPipelineForInpainting.from_pretrained(\n",
    "    \"stabilityai/stable-diffusion-xl-base-1.0\", torch_dtype=torch.float16, use_safetensors=True\n",
    ").to(\"cuda\")\n",
    "\n",
    "init_image = load_image(\"https://hf-mirror.com/datasets/huggingface/documentation-images/resolve/main/diffusers/autopipeline-img2img.png\")\n",
    "mask_image = load_image(\"https://hf-mirror.com/datasets/huggingface/documentation-images/resolve/main/diffusers/autopipeline-mask.png\")\n",
    "\n",
    "prompt = \"cinematic photo of a owl, 35mm photograph, film, professional, 4k, highly detailed\"\n",
    "generator = torch.Generator(device=\"cpu\").manual_seed(38)\n",
    "image = pipeline(prompt, image=init_image, mask_image=mask_image, generator=generator, strength=0.4).images[0]\n",
    "image"
   ]
  },
  {
   "cell_type": "markdown",
   "id": "ad6f4f87-7646-4dfd-bf89-2bdc7ad9eb29",
   "metadata": {},
   "source": [
    "<div class=\"flex justify-center\">\n",
    "    <img src=\"https://huggingface.co/datasets/huggingface/documentation-images/resolve/main/diffusers/autopipeline-inpaint.png\"/>\n",
    "</div>\n",
    "\n",
    "</hfoption>\n",
    "</hfoptions>\n",
    "\n",
    "## Unsupported checkpoints\n",
    "\n",
    "The [AutoPipeline](../api/pipelines/auto_pipeline) supports [Stable Diffusion](../api/pipelines/stable_diffusion/overview), [Stable Diffusion XL](../api/pipelines/stable_diffusion/stable_diffusion_xl), [ControlNet](../api/pipelines/controlnet), [Kandinsky 2.1](../api/pipelines/kandinsky.md), [Kandinsky 2.2](../api/pipelines/kandinsky_v22), and [DeepFloyd IF](../api/pipelines/deepfloyd_if) checkpoints.\n",
    "\n",
    "If you try to load an unsupported checkpoint, you'll get an error.\n",
    "\n",
    "```py\n",
    "from diffusers import AutoPipelineForImage2Image\n",
    "import torch\n",
    "\n",
    "pipeline = AutoPipelineForImage2Image.from_pretrained(\n",
    "    \"openai/shap-e-img2img\", torch_dtype=torch.float16, use_safetensors=True\n",
    ")\n",
    "\"ValueError: AutoPipeline can't find a pipeline linked to ShapEImg2ImgPipeline for None\"\n",
    "```"
   ]
  },
  {
   "cell_type": "code",
   "execution_count": null,
   "id": "3a68326d-3249-4638-af54-0a44bc383ea6",
   "metadata": {},
   "outputs": [],
   "source": []
  }
 ],
 "metadata": {
  "kernelspec": {
   "display_name": "Python 3 (ipykernel)",
   "language": "python",
   "name": "python3"
  },
  "language_info": {
   "codemirror_mode": {
    "name": "ipython",
    "version": 3
   },
   "file_extension": ".py",
   "mimetype": "text/x-python",
   "name": "python",
   "nbconvert_exporter": "python",
   "pygments_lexer": "ipython3",
   "version": "3.11.10"
  }
 },
 "nbformat": 4,
 "nbformat_minor": 5
}
