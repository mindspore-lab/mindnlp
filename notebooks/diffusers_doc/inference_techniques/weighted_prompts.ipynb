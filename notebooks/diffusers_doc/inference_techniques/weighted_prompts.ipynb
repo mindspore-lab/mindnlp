{
 "cells": [
  {
   "cell_type": "markdown",
   "metadata": {},
   "source": [
    "# Prompt techniques"
   ]
  },
  {
   "cell_type": "markdown",
   "metadata": {},
   "source": [
    "Prompts are important because they describe what you want a diffusion model to generate. The best prompts are detailed, specific, and well-structured to help the model realize your vision. But crafting a great prompt takes time and effort and sometimes it may not be enough because language and words can be imprecise. This is where you need to boost your prompt with other techniques, such as prompt enhancing and prompt weighting, to get the results you want.\n",
    "\n",
    "This guide will show you how you can use these prompt techniques to generate high-quality images with lower effort and adjust the weight of certain keywords in a prompt."
   ]
  },
  {
   "cell_type": "markdown",
   "metadata": {},
   "source": [
    "## Prompt engineering"
   ]
  },
  {
   "cell_type": "markdown",
   "metadata": {},
   "source": [
    "> [!TIP]\n",
    "> This is not an exhaustive guide on prompt engineering, but it will help you understand the necessary parts of a good prompt. We encourage you to continue experimenting with different prompts and combine them in new ways to see what works best. As you write more prompts, you'll develop an intuition for what works and what doesn't!\n",
    "\n",
    "New diffusion models do a pretty good job of generating high-quality images from a basic prompt, but it is still important to create a well-written prompt to get the best results. Here are a few tips for writing a good prompt:\n",
    "\n",
    "1. What is the image *medium*? Is it a photo, a painting, a 3D illustration, or something else?\n",
    "2. What is the image *subject*? Is it a person, animal, object, or scene?\n",
    "3. What *details* would you like to see in the image? This is where you can get really creative and have a lot of fun experimenting with different words to bring your image to life. For example, what is the lighting like? What is the vibe and aesthetic? What kind of art or illustration style are you looking for? The more specific and precise words you use, the better the model will understand what you want to generate.\n",
    "\n",
    "<div class=\"flex gap-4\">\n",
    "  <div>\n",
    "    <img class=\"rounded-xl\" src=\"https://huggingface.co/datasets/huggingface/documentation-images/resolve/main/diffusers/plain-prompt.png\"/>\n",
    "    <figcaption class=\"mt-2 text-center text-sm text-gray-500\">\"A photo of a banana-shaped couch in a living room\"</figcaption>\n",
    "  </div>\n",
    "  <div>\n",
    "    <img class=\"rounded-xl\" src=\"https://huggingface.co/datasets/huggingface/documentation-images/resolve/main/diffusers/detail-prompt.png\"/>\n",
    "    <figcaption class=\"mt-2 text-center text-sm text-gray-500\">\"A vibrant yellow banana-shaped couch sits in a cozy living room, its curve cradling a pile of colorful cushions. on the wooden floor, a patterned rug adds a touch of eclectic charm, and a potted plant sits in the corner, reaching towards the sunlight filtering through the windows\"</figcaption>\n",
    "  </div>\n",
    "</div>"
   ]
  },
  {
   "cell_type": "markdown",
   "metadata": {},
   "source": [
    "## Prompt enhancing with GPT2"
   ]
  },
  {
   "cell_type": "markdown",
   "metadata": {},
   "source": [
    "Prompt enhancing is a technique for quickly improving prompt quality without spending too much effort constructing one. It uses a model like GPT2 pretrained on Stable Diffusion text prompts to automatically enrich a prompt with additional important keywords to generate high-quality images.\n",
    "\n",
    "The technique works by curating a list of specific keywords and forcing the model to generate those words to enhance the original prompt. This way, your prompt can be \"a cat\" and GPT2 can enhance the prompt to \"cinematic film still of a cat basking in the sun on a roof in Turkey, highly detailed, high budget hollywood movie, cinemascope, moody, epic, gorgeous, film grain quality sharp focus beautiful detailed intricate stunning amazing epic\".\n",
    "\n",
    "> [!TIP]\n",
    "> You should also use a [*offset noise*](https://www.crosslabs.org//blog/diffusion-with-offset-noise) LoRA to improve the contrast in bright and dark images and create better lighting overall. This [LoRA](https://hf.co/stabilityai/stable-diffusion-xl-base-1.0/blob/main/sd_xl_offset_example-lora_1.0.safetensors) is available from [stabilityai/stable-diffusion-xl-base-1.0](https://hf.co/stabilityai/stable-diffusion-xl-base-1.0).\n",
    "\n",
    "Start by defining certain styles and a list of words (you can check out a more comprehensive list of [words](https://hf.co/LykosAI/GPT-Prompt-Expansion-Fooocus-v2/blob/main/positive.txt) and [styles](https://github.com/lllyasviel/Fooocus/tree/main/sdxl_styles) used by Fooocus) to enhance a prompt with."
   ]
  },
  {
   "cell_type": "code",
   "execution_count": null,
   "metadata": {},
   "outputs": [],
   "source": [
    "import torch\n",
    "from transformers import GenerationConfig, GPT2LMHeadModel, GPT2Tokenizer, LogitsProcessor, LogitsProcessorList\n",
    "from diffusers import StableDiffusionXLPipeline\n",
    "\n",
    "styles = {\n",
    "    \"cinematic\": \"cinematic film still of {prompt}, highly detailed, high budget hollywood movie, cinemascope, moody, epic, gorgeous, film grain\",\n",
    "    \"anime\": \"anime artwork of {prompt}, anime style, key visual, vibrant, studio anime, highly detailed\",\n",
    "    \"photographic\": \"cinematic photo of {prompt}, 35mm photograph, film, professional, 4k, highly detailed\",\n",
    "    \"comic\": \"comic of {prompt}, graphic illustration, comic art, graphic novel art, vibrant, highly detailed\",\n",
    "    \"lineart\": \"line art drawing {prompt}, professional, sleek, modern, minimalist, graphic, line art, vector graphics\",\n",
    "    \"pixelart\": \" pixel-art {prompt}, low-res, blocky, pixel art style, 8-bit graphics\",\n",
    "}\n",
    "\n",
    "words = [\n",
    "    \"aesthetic\", \"astonishing\", \"beautiful\", \"breathtaking\", \"composition\", \"contrasted\", \"epic\", \"moody\", \"enhanced\",\n",
    "    \"exceptional\", \"fascinating\", \"flawless\", \"glamorous\", \"glorious\", \"illumination\", \"impressive\", \"improved\",\n",
    "    \"inspirational\", \"magnificent\", \"majestic\", \"hyperrealistic\", \"smooth\", \"sharp\", \"focus\", \"stunning\", \"detailed\",\n",
    "    \"intricate\", \"dramatic\", \"high\", \"quality\", \"perfect\", \"light\", \"ultra\", \"highly\", \"radiant\", \"satisfying\",\n",
    "    \"soothing\", \"sophisticated\", \"stylish\", \"sublime\", \"terrific\", \"touching\", \"timeless\", \"wonderful\", \"unbelievable\",\n",
    "    \"elegant\", \"awesome\", \"amazing\", \"dynamic\", \"trendy\",\n",
    "]"
   ]
  },
  {
   "cell_type": "markdown",
   "metadata": {},
   "source": [
    "You may have noticed in the `words` list, there are certain words that can be paired together to create something more meaningful. For example, the words \"high\" and \"quality\" can be combined to create \"high quality\". Let's pair these words together and remove the words that can't be paired."
   ]
  },
  {
   "cell_type": "code",
   "execution_count": null,
   "metadata": {},
   "outputs": [],
   "source": [
    "word_pairs = [\"highly detailed\", \"high quality\", \"enhanced quality\", \"perfect composition\", \"dynamic light\"]\n",
    "\n",
    "def find_and_order_pairs(s, pairs):\n",
    "    words = s.split()\n",
    "    found_pairs = []\n",
    "    for pair in pairs:\n",
    "        pair_words = pair.split()\n",
    "        if pair_words[0] in words and pair_words[1] in words:\n",
    "            found_pairs.append(pair)\n",
    "            words.remove(pair_words[0])\n",
    "            words.remove(pair_words[1])\n",
    "\n",
    "    for word in words[:]:\n",
    "        for pair in pairs:\n",
    "            if word in pair.split():\n",
    "                words.remove(word)\n",
    "                break\n",
    "    ordered_pairs = \", \".join(found_pairs)\n",
    "    remaining_s = \", \".join(words)\n",
    "    return ordered_pairs, remaining_s"
   ]
  },
  {
   "cell_type": "markdown",
   "metadata": {},
   "source": [
    "Next, implement a custom [LogitsProcessor](https://huggingface.co/docs/transformers/main/en/internal/generation_utils#transformers.LogitsProcessor) class that assigns tokens in the `words` list a value of 0 and assigns tokens not in the `words` list a negative value so they aren't picked during generation. This way, generation is biased towards words in the `words` list. After a word from the list is used, it is also assigned a negative value so it isn't picked again."
   ]
  },
  {
   "cell_type": "code",
   "execution_count": null,
   "metadata": {},
   "outputs": [],
   "source": [
    "class CustomLogitsProcessor(LogitsProcessor):\n",
    "    def __init__(self, bias):\n",
    "        super().__init__()\n",
    "        self.bias = bias\n",
    "\n",
    "    def __call__(self, input_ids, scores):\n",
    "        if len(input_ids.shape) == 2:\n",
    "            last_token_id = input_ids[0, -1]\n",
    "            self.bias[last_token_id] = -1e10\n",
    "        return scores + self.bias\n",
    "\n",
    "word_ids = [tokenizer.encode(word, add_prefix_space=True)[0] for word in words]\n",
    "bias = torch.full((tokenizer.vocab_size,), -float(\"Inf\")).to(\"cuda\")\n",
    "bias[word_ids] = 0\n",
    "processor = CustomLogitsProcessor(bias)\n",
    "processor_list = LogitsProcessorList([processor])"
   ]
  },
  {
   "cell_type": "markdown",
   "metadata": {},
   "source": [
    "Combine the prompt and the `cinematic` style prompt defined in the `styles` dictionary earlier."
   ]
  },
  {
   "cell_type": "code",
   "execution_count": null,
   "metadata": {},
   "outputs": [],
   "source": [
    "prompt = \"a cat basking in the sun on a roof in Turkey\"\n",
    "style = \"cinematic\"\n",
    "\n",
    "prompt = styles[style].format(prompt=prompt)\n",
    "prompt\n",
    "\"cinematic film still of a cat basking in the sun on a roof in Turkey, highly detailed, high budget hollywood movie, cinemascope, moody, epic, gorgeous, film grain\""
   ]
  },
  {
   "cell_type": "markdown",
   "metadata": {},
   "source": [
    "Load a GPT2 tokenizer and model from the [Gustavosta/MagicPrompt-Stable-Diffusion](https://huggingface.co/Gustavosta/MagicPrompt-Stable-Diffusion) checkpoint (this specific checkpoint is trained to generate prompts) to enhance the prompt."
   ]
  },
  {
   "cell_type": "code",
   "execution_count": null,
   "metadata": {},
   "outputs": [],
   "source": [
    "tokenizer = GPT2Tokenizer.from_pretrained(\"Gustavosta/MagicPrompt-Stable-Diffusion\")\n",
    "model = GPT2LMHeadModel.from_pretrained(\"Gustavosta/MagicPrompt-Stable-Diffusion\", torch_dtype=torch.float16).to(\n",
    "    \"cuda\"\n",
    ")\n",
    "model.eval()\n",
    "\n",
    "inputs = tokenizer(prompt, return_tensors=\"pt\").to(\"cuda\")\n",
    "token_count = inputs[\"input_ids\"].shape[1]\n",
    "max_new_tokens = 50 - token_count\n",
    "\n",
    "generation_config = GenerationConfig(\n",
    "    penalty_alpha=0.7,\n",
    "    top_k=50,\n",
    "    eos_token_id=model.config.eos_token_id,\n",
    "    pad_token_id=model.config.eos_token_id,\n",
    "    pad_token=model.config.pad_token_id,\n",
    "    do_sample=True,\n",
    ")\n",
    "\n",
    "with torch.no_grad():\n",
    "    generated_ids = model.generate(\n",
    "        input_ids=inputs[\"input_ids\"],\n",
    "        attention_mask=inputs[\"attention_mask\"],\n",
    "        max_new_tokens=max_new_tokens,\n",
    "        generation_config=generation_config,\n",
    "        logits_processor=proccesor_list,\n",
    "    )"
   ]
  },
  {
   "cell_type": "markdown",
   "metadata": {},
   "source": [
    "Then you can combine the input prompt and the generated prompt. Feel free to take a look at what the generated prompt (`generated_part`) is, the word pairs that were found (`pairs`), and the remaining words (`words`). This is all packed together in the `enhanced_prompt`."
   ]
  },
  {
   "cell_type": "code",
   "execution_count": null,
   "metadata": {},
   "outputs": [],
   "source": [
    "output_tokens = [tokenizer.decode(generated_id, skip_special_tokens=True) for generated_id in generated_ids]\n",
    "input_part, generated_part = output_tokens[0][: len(prompt)], output_tokens[0][len(prompt) :]\n",
    "pairs, words = find_and_order_pairs(generated_part, word_pairs)\n",
    "formatted_generated_part = pairs + \", \" + words\n",
    "enhanced_prompt = input_part + \", \" + formatted_generated_part\n",
    "enhanced_prompt\n",
    "[\"cinematic film still of a cat basking in the sun on a roof in Turkey, highly detailed, high budget hollywood movie, cinemascope, moody, epic, gorgeous, film grain quality sharp focus beautiful detailed intricate stunning amazing epic\"]"
   ]
  },
  {
   "cell_type": "markdown",
   "metadata": {},
   "source": [
    "Finally, load a pipeline and the offset noise LoRA with a *low weight* to generate an image with the enhanced prompt."
   ]
  },
  {
   "cell_type": "code",
   "execution_count": null,
   "metadata": {},
   "outputs": [],
   "source": [
    "pipeline = StableDiffusionXLPipeline.from_pretrained(\n",
    "    \"RunDiffusion/Juggernaut-XL-v9\", torch_dtype=torch.float16, variant=\"fp16\"\n",
    ").to(\"cuda\")\n",
    "\n",
    "pipeline.load_lora_weights(\n",
    "    \"stabilityai/stable-diffusion-xl-base-1.0\",\n",
    "    weight_name=\"sd_xl_offset_example-lora_1.0.safetensors\",\n",
    "    adapter_name=\"offset\",\n",
    ")\n",
    "pipeline.set_adapters([\"offset\"], adapter_weights=[0.2])\n",
    "\n",
    "image = pipeline(\n",
    "    enhanced_prompt,\n",
    "    width=1152,\n",
    "    height=896,\n",
    "    guidance_scale=7.5,\n",
    "    num_inference_steps=25,\n",
    ").images[0]\n",
    "image"
   ]
  },
  {
   "cell_type": "markdown",
   "metadata": {},
   "source": [
    "<div class=\"flex gap-4\">\n",
    "  <div>\n",
    "    <img class=\"rounded-xl\" src=\"https://huggingface.co/datasets/huggingface/documentation-images/resolve/main/diffusers/non-enhanced-prompt.png\"/>\n",
    "    <figcaption class=\"mt-2 text-center text-sm text-gray-500\">\"a cat basking in the sun on a roof in Turkey\"</figcaption>\n",
    "  </div>\n",
    "  <div>\n",
    "    <img class=\"rounded-xl\" src=\"https://huggingface.co/datasets/huggingface/documentation-images/resolve/main/diffusers/enhanced-prompt.png\"/>\n",
    "    <figcaption class=\"mt-2 text-center text-sm text-gray-500\">\"cinematic film still of a cat basking in the sun on a roof in Turkey, highly detailed, high budget hollywood movie, cinemascope, moody, epic, gorgeous, film grain\"</figcaption>\n",
    "  </div>\n",
    "</div>"
   ]
  },
  {
   "cell_type": "markdown",
   "metadata": {},
   "source": [
    "## Prompt weighting"
   ]
  },
  {
   "cell_type": "markdown",
   "metadata": {},
   "source": [
    "Prompt weighting provides a way to emphasize or de-emphasize certain parts of a prompt, allowing for more control over the generated image. A prompt can include several concepts, which gets turned into contextualized text embeddings. The embeddings are used by the model to condition its cross-attention layers to generate an image (read the Stable Diffusion [blog post](https://huggingface.co/blog/stable_diffusion) to learn more about how it works).\n",
    "\n",
    "Prompt weighting works by increasing or decreasing the scale of the text embedding vector that corresponds to its concept in the prompt because you may not necessarily want the model to focus on all concepts equally. The easiest way to prepare the prompt embeddings is to use [Stable Diffusion Long Prompt Weighted Embedding](https://github.com/xhinker/sd_embed) (sd_embed). Once you have the prompt-weighted embeddings, you can pass them to any pipeline that has a [prompt_embeds](https://huggingface.co/docs/diffusers/en/api/pipelines/stable_diffusion/text2img#diffusers.StableDiffusionPipeline.__call__.prompt_embeds) (and optionally [negative_prompt_embeds](https://huggingface.co/docs/diffusers/en/api/pipelines/stable_diffusion/text2img#diffusers.StableDiffusionPipeline.__call__.negative_prompt_embeds)) parameter, such as [StableDiffusionPipeline](https://huggingface.co/docs/diffusers/main/en/api/pipelines/stable_diffusion/text2img#diffusers.StableDiffusionPipeline), [StableDiffusionControlNetPipeline](https://huggingface.co/docs/diffusers/main/en/api/pipelines/controlnet#diffusers.StableDiffusionControlNetPipeline), and [StableDiffusionXLPipeline](https://huggingface.co/docs/diffusers/main/en/api/pipelines/stable_diffusion/stable_diffusion_xl#diffusers.StableDiffusionXLPipeline).\n",
    "\n",
    "<Tip>\n",
    "\n",
    "If your favorite pipeline doesn't have a `prompt_embeds` parameter, please open an [issue](https://github.com/huggingface/diffusers/issues/new/choose) so we can add it!\n",
    "\n",
    "</Tip>\n",
    "\n",
    "This guide will show you how to weight your prompts with sd_embed.\n",
    "\n",
    "Before you begin, make sure you have the latest version of sd_embed installed:\n",
    "\n",
    "```bash\n",
    "pip install git+https://github.com/xhinker/sd_embed.git@main\n",
    "```\n",
    "\n",
    "For this example, let's use [StableDiffusionXLPipeline](https://huggingface.co/docs/diffusers/main/en/api/pipelines/stable_diffusion/stable_diffusion_xl#diffusers.StableDiffusionXLPipeline)."
   ]
  },
  {
   "cell_type": "code",
   "execution_count": null,
   "metadata": {},
   "outputs": [],
   "source": [
    "from diffusers import StableDiffusionXLPipeline, UniPCMultistepScheduler\n",
    "import torch\n",
    "\n",
    "pipe = StableDiffusionXLPipeline.from_pretrained(\"Lykon/dreamshaper-xl-1-0\", torch_dtype=torch.float16)\n",
    "pipe.scheduler = UniPCMultistepScheduler.from_config(pipe.scheduler.config)\n",
    "pipe.to(\"cuda\")"
   ]
  },
  {
   "cell_type": "markdown",
   "metadata": {},
   "source": [
    "To upweight or downweight a concept, surround the text with parentheses. More parentheses applies a heavier weight on the text. You can also append a numerical multiplier to the text to indicate how much you want to increase or decrease its weights by.\n",
    "\n",
    "| format | multiplier |\n",
    "|---|---|\n",
    "| `(hippo)` | increase by 1.1x |\n",
    "| `((hippo))` | increase by 1.21x |\n",
    "| `(hippo:1.5)` | increase by 1.5x |\n",
    "| `(hippo:0.5)` | decrease by 4x |\n",
    "\n",
    "Create a prompt and use a combination of parentheses and numerical multipliers to upweight various text."
   ]
  },
  {
   "cell_type": "code",
   "execution_count": null,
   "metadata": {},
   "outputs": [],
   "source": [
    "from sd_embed.embedding_funcs import get_weighted_text_embeddings_sdxl\n",
    "\n",
    "prompt = \"\"\"A whimsical and creative image depicting a hybrid creature that is a mix of a waffle and a hippopotamus. \n",
    "This imaginative creature features the distinctive, bulky body of a hippo, \n",
    "but with a texture and appearance resembling a golden-brown, crispy waffle. \n",
    "The creature might have elements like waffle squares across its skin and a syrup-like sheen. \n",
    "It's set in a surreal environment that playfully combines a natural water habitat of a hippo with elements of a breakfast table setting, \n",
    "possibly including oversized utensils or plates in the background. \n",
    "The image should evoke a sense of playful absurdity and culinary fantasy.\n",
    "\"\"\"\n",
    "\n",
    "neg_prompt = \"\"\"\\\n",
    "skin spots,acnes,skin blemishes,age spot,(ugly:1.2),(duplicate:1.2),(morbid:1.21),(mutilated:1.2),\\\n",
    "(tranny:1.2),mutated hands,(poorly drawn hands:1.5),blurry,(bad anatomy:1.2),(bad proportions:1.3),\\\n",
    "extra limbs,(disfigured:1.2),(missing arms:1.2),(extra legs:1.2),(fused fingers:1.5),\\\n",
    "(too many fingers:1.5),(unclear eyes:1.2),lowers,bad hands,missing fingers,extra digit,\\\n",
    "bad hands,missing fingers,(extra arms and legs),(worst quality:2),(low quality:2),\\\n",
    "(normal quality:2),lowres,((monochrome)),((grayscale))\n",
    "\"\"\""
   ]
  },
  {
   "cell_type": "markdown",
   "metadata": {},
   "source": [
    "Use the `get_weighted_text_embeddings_sdxl` function to generate the prompt embeddings and the negative prompt embeddings. It'll also generated the pooled and negative pooled prompt embeddings since you're using the SDXL model.\n",
    "\n",
    "> [!TIP]\n",
    "> You can safely ignore the error message below about the token index length exceeding the models maximum sequence length. All your tokens will be used in the embedding process.\n",
    ">\n",
    "> ```\n",
    "> Token indices sequence length is longer than the specified maximum sequence length for this model\n",
    "> ```"
   ]
  },
  {
   "cell_type": "code",
   "execution_count": null,
   "metadata": {},
   "outputs": [],
   "source": [
    "( \n",
    "  prompt_embeds,\n",
    "  prompt_neg_embeds,\n",
    "  pooled_prompt_embeds,\n",
    "  negative_pooled_prompt_embeds\n",
    ") = get_weighted_text_embeddings_sdxl(\n",
    "    pipe,\n",
    "    prompt=prompt,\n",
    "    neg_prompt=neg_prompt\n",
    ")\n",
    "\n",
    "image = pipe(\n",
    "    prompt_embeds=prompt_embeds,\n",
    "    negative_prompt_embeds=prompt_neg_embeds,\n",
    "    pooled_prompt_embeds=pooled_prompt_embeds,\n",
    "    negative_pooled_prompt_embeds=negative_pooled_prompt_embeds,\n",
    "    num_inference_steps=30,\n",
    "    height=1024,\n",
    "    width=1024 + 512,\n",
    "    guidance_scale=4.0,\n",
    "    generator=torch.Generator(\"cuda\").manual_seed(2)\n",
    ").images[0]\n",
    "image"
   ]
  },
  {
   "cell_type": "markdown",
   "metadata": {},
   "source": [
    "<div class=\"flex justify-center\">\n",
    "  <img src=\"https://huggingface.co/datasets/huggingface/documentation-images/resolve/main/diffusers/sd_embed_sdxl.png\"/>\n",
    "</div>\n",
    "\n",
    "> [!TIP]\n",
    "> Refer to the [sd_embed](https://github.com/xhinker/sd_embed) repository for additional details about long prompt weighting for FLUX.1, Stable Cascade, and Stable Diffusion 1.5."
   ]
  },
  {
   "cell_type": "markdown",
   "metadata": {},
   "source": [
    "### Textual inversion"
   ]
  },
  {
   "cell_type": "markdown",
   "metadata": {},
   "source": [
    "[Textual inversion](https://huggingface.co/docs/diffusers/main/en/using-diffusers/../training/text_inversion) is a technique for learning a specific concept from some images which you can use to generate new images conditioned on that concept.\n",
    "\n",
    "Create a pipeline and use the [load_textual_inversion()](https://huggingface.co/docs/diffusers/main/en/api/loaders/textual_inversion#diffusers.loaders.TextualInversionLoaderMixin.load_textual_inversion) function to load the textual inversion embeddings (feel free to browse the [Stable Diffusion Conceptualizer](https://huggingface.co/spaces/sd-concepts-library/stable-diffusion-conceptualizer) for 100+ trained concepts):"
   ]
  },
  {
   "cell_type": "code",
   "execution_count": null,
   "metadata": {},
   "outputs": [],
   "source": [
    "import torch\n",
    "from diffusers import StableDiffusionPipeline\n",
    "\n",
    "pipe = StableDiffusionPipeline.from_pretrained(\n",
    "  \"stable-diffusion-v1-5/stable-diffusion-v1-5\",\n",
    "  torch_dtype=torch.float16,\n",
    ").to(\"cuda\")\n",
    "pipe.load_textual_inversion(\"sd-concepts-library/midjourney-style\")"
   ]
  },
  {
   "cell_type": "markdown",
   "metadata": {},
   "source": [
    "Add the `<midjourney-style>` text to the prompt to trigger the textual inversion."
   ]
  },
  {
   "cell_type": "code",
   "execution_count": null,
   "metadata": {},
   "outputs": [],
   "source": [
    "from sd_embed.embedding_funcs import get_weighted_text_embeddings_sd15\n",
    "\n",
    "prompt = \"\"\"<midjourney-style> A whimsical and creative image depicting a hybrid creature that is a mix of a waffle and a hippopotamus. \n",
    "This imaginative creature features the distinctive, bulky body of a hippo, \n",
    "but with a texture and appearance resembling a golden-brown, crispy waffle. \n",
    "The creature might have elements like waffle squares across its skin and a syrup-like sheen. \n",
    "It's set in a surreal environment that playfully combines a natural water habitat of a hippo with elements of a breakfast table setting, \n",
    "possibly including oversized utensils or plates in the background. \n",
    "The image should evoke a sense of playful absurdity and culinary fantasy.\n",
    "\"\"\"\n",
    "\n",
    "neg_prompt = \"\"\"\\\n",
    "skin spots,acnes,skin blemishes,age spot,(ugly:1.2),(duplicate:1.2),(morbid:1.21),(mutilated:1.2),\\\n",
    "(tranny:1.2),mutated hands,(poorly drawn hands:1.5),blurry,(bad anatomy:1.2),(bad proportions:1.3),\\\n",
    "extra limbs,(disfigured:1.2),(missing arms:1.2),(extra legs:1.2),(fused fingers:1.5),\\\n",
    "(too many fingers:1.5),(unclear eyes:1.2),lowers,bad hands,missing fingers,extra digit,\\\n",
    "bad hands,missing fingers,(extra arms and legs),(worst quality:2),(low quality:2),\\\n",
    "(normal quality:2),lowres,((monochrome)),((grayscale))\n",
    "\"\"\""
   ]
  },
  {
   "cell_type": "markdown",
   "metadata": {},
   "source": [
    "Use the `get_weighted_text_embeddings_sd15` function to generate the prompt embeddings and the negative prompt embeddings."
   ]
  },
  {
   "cell_type": "code",
   "execution_count": null,
   "metadata": {},
   "outputs": [],
   "source": [
    "( \n",
    "  prompt_embeds,\n",
    "  prompt_neg_embeds,\n",
    ") = get_weighted_text_embeddings_sd15(\n",
    "    pipe,\n",
    "    prompt=prompt,\n",
    "    neg_prompt=neg_prompt\n",
    ")\n",
    "\n",
    "image = pipe(\n",
    "    prompt_embeds=prompt_embeds,\n",
    "    negative_prompt_embeds=prompt_neg_embeds,\n",
    "    height=768,\n",
    "    width=896,\n",
    "    guidance_scale=4.0,\n",
    "    generator=torch.Generator(\"cuda\").manual_seed(2)\n",
    ").images[0]\n",
    "image"
   ]
  },
  {
   "cell_type": "markdown",
   "metadata": {},
   "source": [
    "<div class=\"flex justify-center\">\n",
    "  <img src=\"https://huggingface.co/datasets/huggingface/documentation-images/resolve/main/diffusers/sd_embed_textual_inversion.png\"/>\n",
    "</div>"
   ]
  },
  {
   "cell_type": "markdown",
   "metadata": {},
   "source": [
    "### DreamBooth"
   ]
  },
  {
   "cell_type": "markdown",
   "metadata": {},
   "source": [
    "[DreamBooth](https://huggingface.co/docs/diffusers/main/en/using-diffusers/../training/dreambooth) is a technique for generating contextualized images of a subject given just a few images of the subject to train on. It is similar to textual inversion, but DreamBooth trains the full model whereas textual inversion only fine-tunes the text embeddings. This means you should use [from_pretrained()](https://huggingface.co/docs/diffusers/main/en/api/pipelines/overview#diffusers.DiffusionPipeline.from_pretrained) to load the DreamBooth model (feel free to browse the [Stable Diffusion Dreambooth Concepts Library](https://huggingface.co/sd-dreambooth-library) for 100+ trained models):"
   ]
  },
  {
   "cell_type": "code",
   "execution_count": null,
   "metadata": {},
   "outputs": [],
   "source": [
    "import torch\n",
    "from diffusers import DiffusionPipeline, UniPCMultistepScheduler\n",
    "\n",
    "pipe = DiffusionPipeline.from_pretrained(\"sd-dreambooth-library/dndcoverart-v1\", torch_dtype=torch.float16).to(\"cuda\")\n",
    "pipe.scheduler = UniPCMultistepScheduler.from_config(pipe.scheduler.config)"
   ]
  },
  {
   "cell_type": "markdown",
   "metadata": {},
   "source": [
    "Depending on the model you use, you'll need to incorporate the model's unique identifier into your prompt. For example, the `dndcoverart-v1` model uses the identifier `dndcoverart`:"
   ]
  },
  {
   "cell_type": "code",
   "execution_count": null,
   "metadata": {},
   "outputs": [],
   "source": [
    "from sd_embed.embedding_funcs import get_weighted_text_embeddings_sd15\n",
    "\n",
    "prompt = \"\"\"dndcoverart of A whimsical and creative image depicting a hybrid creature that is a mix of a waffle and a hippopotamus. \n",
    "This imaginative creature features the distinctive, bulky body of a hippo, \n",
    "but with a texture and appearance resembling a golden-brown, crispy waffle. \n",
    "The creature might have elements like waffle squares across its skin and a syrup-like sheen. \n",
    "It's set in a surreal environment that playfully combines a natural water habitat of a hippo with elements of a breakfast table setting, \n",
    "possibly including oversized utensils or plates in the background. \n",
    "The image should evoke a sense of playful absurdity and culinary fantasy.\n",
    "\"\"\"\n",
    "\n",
    "neg_prompt = \"\"\"\\\n",
    "skin spots,acnes,skin blemishes,age spot,(ugly:1.2),(duplicate:1.2),(morbid:1.21),(mutilated:1.2),\\\n",
    "(tranny:1.2),mutated hands,(poorly drawn hands:1.5),blurry,(bad anatomy:1.2),(bad proportions:1.3),\\\n",
    "extra limbs,(disfigured:1.2),(missing arms:1.2),(extra legs:1.2),(fused fingers:1.5),\\\n",
    "(too many fingers:1.5),(unclear eyes:1.2),lowers,bad hands,missing fingers,extra digit,\\\n",
    "bad hands,missing fingers,(extra arms and legs),(worst quality:2),(low quality:2),\\\n",
    "(normal quality:2),lowres,((monochrome)),((grayscale))\n",
    "\"\"\"\n",
    "\n",
    "(\n",
    "    prompt_embeds\n",
    "    , prompt_neg_embeds\n",
    ") = get_weighted_text_embeddings_sd15(\n",
    "    pipe\n",
    "    , prompt = prompt\n",
    "    , neg_prompt = neg_prompt\n",
    ")"
   ]
  },
  {
   "cell_type": "markdown",
   "metadata": {},
   "source": [
    "<div class=\"flex justify-center\">\n",
    "  <img src=\"https://huggingface.co/datasets/huggingface/documentation-images/resolve/main/diffusers/sd_embed_dreambooth.png\"/>\n",
    "</div>"
   ]
  }
 ],
 "metadata": {},
 "nbformat": 4,
 "nbformat_minor": 4
}
